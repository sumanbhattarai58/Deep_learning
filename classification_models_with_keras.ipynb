{
 "cells": [
  {
   "cell_type": "markdown",
   "id": "252f3800",
   "metadata": {},
   "source": [
    " we will learn how to use the Keras library to build models for classificaiton problems. We will use the popular MNIST dataset, a dataset of images, for a change.\n",
    " The MNIST database, short for Modified National Institute of Standards and Technology database, is a large database of handwritten digits that is commonly used for training various image processing systems. The database is also widely used for training and testing in the field of machine learning.\n",
    " The MNIST database contains 60,000 training images and 10,000 testing images of digits written by high school students and employees of the United States Census Bureau"
   ]
  },
  {
   "cell_type": "code",
   "execution_count": 48,
   "id": "37422fe3",
   "metadata": {},
   "outputs": [],
   "source": [
    "import keras\n",
    "from keras.models import Sequential\n",
    "from keras.layers import Input\n",
    "from keras.layers import Dense\n",
    "from keras.utils import to_categorical\n",
    "import matplotlib.pyplot as plt\n",
    "from keras.datasets import mnist"
   ]
  },
  {
   "cell_type": "code",
   "execution_count": 49,
   "id": "0d22ce52",
   "metadata": {},
   "outputs": [
    {
     "data": {
      "text/plain": [
       "(60000, 28, 28)"
      ]
     },
     "execution_count": 49,
     "metadata": {},
     "output_type": "execute_result"
    }
   ],
   "source": [
    "#read the data\n",
    "(X_train, y_train),(X_test, y_test)=mnist.load_data()\n",
    "X_train.shape\n"
   ]
  },
  {
   "cell_type": "markdown",
   "id": "be41e505",
   "metadata": {},
   "source": [
    "The first number in the output tuple is the number of images, and the other two numbers are the size of the images in dataset. So, each image is 28 pixels by 28 pixels."
   ]
  },
  {
   "cell_type": "code",
   "execution_count": 50,
   "id": "bddc934d",
   "metadata": {},
   "outputs": [
    {
     "data": {
      "text/plain": [
       "<matplotlib.image.AxesImage at 0x1efb5caaed0>"
      ]
     },
     "execution_count": 50,
     "metadata": {},
     "output_type": "execute_result"
    },
    {
     "data": {
      "image/png": "[encoded data removed]",
      "text/plain": [
       "<Figure size 640x480 with 1 Axes>"
      ]
     },
     "metadata": {},
     "output_type": "display_data"
    }
   ],
   "source": [
    "#Let's visualize the first image in the training set using Matplotlib's scripting layer.\n",
    "plt.imshow(X_train[2])"
   ]
  },
  {
   "cell_type": "markdown",
   "id": "d136ad44",
   "metadata": {},
   "source": [
    "With conventional neural networks, we cannot feed in the image as input as is. So we need to flatten the images into one-dimensional vectors, each of size 1 x (28 x 28) = 1 x 784.\n",
    "784 inputs, one input for each pixel"
   ]
  },
  {
   "cell_type": "code",
   "execution_count": 51,
   "id": "38d9489f",
   "metadata": {},
   "outputs": [],
   "source": [
    "#flatten images into one-dimensional vector\n",
    "num_pixels= X_train.shape[1] * X_train.shape[2]  ## find size of one-dimensional vector\n",
    "X_train= X_train.reshape(X_train.shape[0],num_pixels).astype('float32')\n",
    "X_test= X_test.reshape(X_test.shape[0],num_pixels).astype('float32')"
   ]
  },
  {
   "cell_type": "markdown",
   "id": "0104b7db",
   "metadata": {},
   "source": [
    "Since pixel values can range from 0 to 255, let's normalize the vectors to be between 0 and 1."
   ]
  },
  {
   "cell_type": "code",
   "execution_count": 52,
   "id": "aac5c291",
   "metadata": {},
   "outputs": [],
   "source": [
    "X_train =X_train/255\n",
    "X_test= X_test/255"
   ]
  },
  {
   "cell_type": "code",
   "execution_count": 53,
   "id": "bbcc6a5e",
   "metadata": {},
   "outputs": [
    {
     "name": "stdout",
     "output_type": "stream",
     "text": [
      "10\n"
     ]
    }
   ],
   "source": [
    "#for classification we need to divide our target variable into categories\n",
    "y_train=to_categorical(y_train)\n",
    "y_test=to_categorical(y_test)\n",
    "num_classes= y_test.shape[1]\n",
    "print(num_classes)"
   ]
  },
  {
   "cell_type": "code",
   "execution_count": 54,
   "id": "b7c79437",
   "metadata": {},
   "outputs": [],
   "source": [
    "#build a neural network\n",
    "def classification_model():\n",
    "    model=Sequential()\n",
    "    model.add(Input(shape=(num_pixels,)))\n",
    "    model.add(Dense(num_pixels,activation='relu'))\n",
    "    model.add(Dense(100,activation='relu'))\n",
    "    model.add(Dense(num_classes,activation='softmax'))\n",
    "\n",
    "    #compile model\n",
    "    model.compile(optimizer='adam',loss='categorical_crossentropy',metrics=['accuracy'])\n",
    "    return model"
   ]
  },
  {
   "cell_type": "code",
   "execution_count": 55,
   "id": "40933f9a",
   "metadata": {},
   "outputs": [
    {
     "name": "stdout",
     "output_type": "stream",
     "text": [
      "Epoch 1/10\n",
      "1875/1875 - 5s - 3ms/step - accuracy: 0.9438 - loss: 0.1861 - val_accuracy: 0.9707 - val_loss: 0.0956\n",
      "Epoch 2/10\n",
      "1875/1875 - 4s - 2ms/step - accuracy: 0.9750 - loss: 0.0782 - val_accuracy: 0.9760 - val_loss: 0.0775\n",
      "Epoch 3/10\n",
      "1875/1875 - 4s - 2ms/step - accuracy: 0.9833 - loss: 0.0527 - val_accuracy: 0.9805 - val_loss: 0.0673\n",
      "Epoch 4/10\n",
      "1875/1875 - 4s - 2ms/step - accuracy: 0.9868 - loss: 0.0405 - val_accuracy: 0.9790 - val_loss: 0.0736\n",
      "Epoch 5/10\n",
      "1875/1875 - 4s - 2ms/step - accuracy: 0.9904 - loss: 0.0305 - val_accuracy: 0.9742 - val_loss: 0.0946\n",
      "Epoch 6/10\n",
      "1875/1875 - 4s - 2ms/step - accuracy: 0.9912 - loss: 0.0269 - val_accuracy: 0.9816 - val_loss: 0.0736\n",
      "Epoch 7/10\n",
      "1875/1875 - 4s - 2ms/step - accuracy: 0.9923 - loss: 0.0228 - val_accuracy: 0.9787 - val_loss: 0.0966\n",
      "Epoch 8/10\n",
      "1875/1875 - 4s - 2ms/step - accuracy: 0.9944 - loss: 0.0182 - val_accuracy: 0.9810 - val_loss: 0.0778\n",
      "Epoch 9/10\n",
      "1875/1875 - 4s - 2ms/step - accuracy: 0.9946 - loss: 0.0176 - val_accuracy: 0.9788 - val_loss: 0.1032\n",
      "Epoch 10/10\n",
      "1875/1875 - 4s - 2ms/step - accuracy: 0.9947 - loss: 0.0164 - val_accuracy: 0.9805 - val_loss: 0.0907\n",
      "Accuracy: 0.9804999828338623% \n",
      " Error: 0.019500017166137695\n"
     ]
    }
   ],
   "source": [
    "#train and test the model\n",
    "model= classification_model()\n",
    "#fit the model\n",
    "model.fit(X_train,y_train, validation_data=(X_test,y_test),epochs=10, verbose =2)\n",
    "#evaluate the model\n",
    "scores= model.evaluate(X_test,y_test,verbose=0)\n",
    "print('Accuracy: {}% \\n Error: {}'.format(scores[1], 1 - scores[1])) "
   ]
  },
  {
   "cell_type": "code",
   "execution_count": 56,
   "id": "2b4718d7",
   "metadata": {},
   "outputs": [
    {
     "data": {
      "text/html": [
       "<pre style=\"white-space:pre;overflow-x:auto;line-height:normal;font-family:Menlo,'DejaVu Sans Mono',consolas,'Courier New',monospace\"><span style=\"font-weight: bold\">Model: \"sequential_4\"</span>\n",
       "</pre>\n"
      ],
      "text/plain": [
       "\u001b[1mModel: \"sequential_4\"\u001b[0m\n"
      ]
     },
     "metadata": {},
     "output_type": "display_data"
    },
    {
     "data": {
      "text/html": [
       "<pre style=\"white-space:pre;overflow-x:auto;line-height:normal;font-family:Menlo,'DejaVu Sans Mono',consolas,'Courier New',monospace\">┏━━━━━━━━━━━━━━━━━━━━━━━━━━━━━━━━━┳━━━━━━━━━━━━━━━━━━━━━━━━┳━━━━━━━━━━━━━━━┓\n",
       "┃<span style=\"font-weight: bold\"> Layer (type)                    </span>┃<span style=\"font-weight: bold\"> Output Shape           </span>┃<span style=\"font-weight: bold\">       Param # </span>┃\n",
       "┡━━━━━━━━━━━━━━━━━━━━━━━━━━━━━━━━━╇━━━━━━━━━━━━━━━━━━━━━━━━╇━━━━━━━━━━━━━━━┩\n",
       "│ dense_9 (<span style=\"color: #0087ff; text-decoration-color: #0087ff\">Dense</span>)                 │ (<span style=\"color: #00d7ff; text-decoration-color: #00d7ff\">None</span>, <span style=\"color: #00af00; text-decoration-color: #00af00\">784</span>)            │       <span style=\"color: #00af00; text-decoration-color: #00af00\">615,440</span> │\n",
       "├─────────────────────────────────┼────────────────────────┼───────────────┤\n",
       "│ dense_10 (<span style=\"color: #0087ff; text-decoration-color: #0087ff\">Dense</span>)                │ (<span style=\"color: #00d7ff; text-decoration-color: #00d7ff\">None</span>, <span style=\"color: #00af00; text-decoration-color: #00af00\">100</span>)            │        <span style=\"color: #00af00; text-decoration-color: #00af00\">78,500</span> │\n",
       "├─────────────────────────────────┼────────────────────────┼───────────────┤\n",
       "│ dense_11 (<span style=\"color: #0087ff; text-decoration-color: #0087ff\">Dense</span>)                │ (<span style=\"color: #00d7ff; text-decoration-color: #00d7ff\">None</span>, <span style=\"color: #00af00; text-decoration-color: #00af00\">10</span>)             │         <span style=\"color: #00af00; text-decoration-color: #00af00\">1,010</span> │\n",
       "└─────────────────────────────────┴────────────────────────┴───────────────┘\n",
       "</pre>\n"
      ],
      "text/plain": [
       "┏━━━━━━━━━━━━━━━━━━━━━━━━━━━━━━━━━┳━━━━━━━━━━━━━━━━━━━━━━━━┳━━━━━━━━━━━━━━━┓\n",
       "┃\u001b[1m \u001b[0m\u001b[1mLayer (type)                   \u001b[0m\u001b[1m \u001b[0m┃\u001b[1m \u001b[0m\u001b[1mOutput Shape          \u001b[0m\u001b[1m \u001b[0m┃\u001b[1m \u001b[0m\u001b[1m      Param #\u001b[0m\u001b[1m \u001b[0m┃\n",
       "┡━━━━━━━━━━━━━━━━━━━━━━━━━━━━━━━━━╇━━━━━━━━━━━━━━━━━━━━━━━━╇━━━━━━━━━━━━━━━┩\n",
       "│ dense_9 (\u001b[38;5;33mDense\u001b[0m)                 │ (\u001b[38;5;45mNone\u001b[0m, \u001b[38;5;34m784\u001b[0m)            │       \u001b[38;5;34m615,440\u001b[0m │\n",
       "├─────────────────────────────────┼────────────────────────┼───────────────┤\n",
       "│ dense_10 (\u001b[38;5;33mDense\u001b[0m)                │ (\u001b[38;5;45mNone\u001b[0m, \u001b[38;5;34m100\u001b[0m)            │        \u001b[38;5;34m78,500\u001b[0m │\n",
       "├─────────────────────────────────┼────────────────────────┼───────────────┤\n",
       "│ dense_11 (\u001b[38;5;33mDense\u001b[0m)                │ (\u001b[38;5;45mNone\u001b[0m, \u001b[38;5;34m10\u001b[0m)             │         \u001b[38;5;34m1,010\u001b[0m │\n",
       "└─────────────────────────────────┴────────────────────────┴───────────────┘\n"
      ]
     },
     "metadata": {},
     "output_type": "display_data"
    },
    {
     "data": {
      "text/html": [
       "<pre style=\"white-space:pre;overflow-x:auto;line-height:normal;font-family:Menlo,'DejaVu Sans Mono',consolas,'Courier New',monospace\"><span style=\"font-weight: bold\"> Total params: </span><span style=\"color: #00af00; text-decoration-color: #00af00\">2,084,852</span> (7.95 MB)\n",
       "</pre>\n"
      ],
      "text/plain": [
       "\u001b[1m Total params: \u001b[0m\u001b[38;5;34m2,084,852\u001b[0m (7.95 MB)\n"
      ]
     },
     "metadata": {},
     "output_type": "display_data"
    },
    {
     "data": {
      "text/html": [
       "<pre style=\"white-space:pre;overflow-x:auto;line-height:normal;font-family:Menlo,'DejaVu Sans Mono',consolas,'Courier New',monospace\"><span style=\"font-weight: bold\"> Trainable params: </span><span style=\"color: #00af00; text-decoration-color: #00af00\">694,950</span> (2.65 MB)\n",
       "</pre>\n"
      ],
      "text/plain": [
       "\u001b[1m Trainable params: \u001b[0m\u001b[38;5;34m694,950\u001b[0m (2.65 MB)\n"
      ]
     },
     "metadata": {},
     "output_type": "display_data"
    },
    {
     "data": {
      "text/html": [
       "<pre style=\"white-space:pre;overflow-x:auto;line-height:normal;font-family:Menlo,'DejaVu Sans Mono',consolas,'Courier New',monospace\"><span style=\"font-weight: bold\"> Non-trainable params: </span><span style=\"color: #00af00; text-decoration-color: #00af00\">0</span> (0.00 B)\n",
       "</pre>\n"
      ],
      "text/plain": [
       "\u001b[1m Non-trainable params: \u001b[0m\u001b[38;5;34m0\u001b[0m (0.00 B)\n"
      ]
     },
     "metadata": {},
     "output_type": "display_data"
    },
    {
     "data": {
      "text/html": [
       "<pre style=\"white-space:pre;overflow-x:auto;line-height:normal;font-family:Menlo,'DejaVu Sans Mono',consolas,'Courier New',monospace\"><span style=\"font-weight: bold\"> Optimizer params: </span><span style=\"color: #00af00; text-decoration-color: #00af00\">1,389,902</span> (5.30 MB)\n",
       "</pre>\n"
      ],
      "text/plain": [
       "\u001b[1m Optimizer params: \u001b[0m\u001b[38;5;34m1,389,902\u001b[0m (5.30 MB)\n"
      ]
     },
     "metadata": {},
     "output_type": "display_data"
    }
   ],
   "source": [
    "model.summary()"
   ]
  },
  {
   "cell_type": "markdown",
   "id": "13e3f791",
   "metadata": {},
   "source": [
    "Sometimes, you cannot afford to retrain your model everytime you want to use it, especially if you are limited on computational resources and training your model can take a long time. Therefore, with the Keras library, you can save your model after training. To do that, we use the save method."
   ]
  },
  {
   "cell_type": "code",
   "execution_count": 60,
   "id": "4fdf7fda",
   "metadata": {},
   "outputs": [],
   "source": [
    "model.save(\"classification_model.keras\")"
   ]
  },
  {
   "cell_type": "markdown",
   "id": "33bafdd3",
   "metadata": {},
   "source": [
    "When you are ready to use your model again, you use the load_model function from keras.saving."
   ]
  },
  {
   "cell_type": "code",
   "execution_count": 62,
   "id": "97dc2ea5",
   "metadata": {},
   "outputs": [
    {
     "name": "stdout",
     "output_type": "stream",
     "text": [
      "Epoch 1/10\n",
      "1875/1875 - 5s - 3ms/step - accuracy: 0.9954 - loss: 0.0145 - val_accuracy: 0.9766 - val_loss: 0.1292\n",
      "Epoch 2/10\n",
      "1875/1875 - 4s - 2ms/step - accuracy: 0.9963 - loss: 0.0120 - val_accuracy: 0.9818 - val_loss: 0.1017\n",
      "Epoch 3/10\n",
      "1875/1875 - 4s - 2ms/step - accuracy: 0.9953 - loss: 0.0149 - val_accuracy: 0.9818 - val_loss: 0.0996\n",
      "Epoch 4/10\n",
      "1875/1875 - 4s - 2ms/step - accuracy: 0.9965 - loss: 0.0114 - val_accuracy: 0.9799 - val_loss: 0.1028\n",
      "Epoch 5/10\n",
      "1875/1875 - 4s - 2ms/step - accuracy: 0.9965 - loss: 0.0115 - val_accuracy: 0.9804 - val_loss: 0.1099\n",
      "Epoch 6/10\n",
      "1875/1875 - 5s - 2ms/step - accuracy: 0.9963 - loss: 0.0130 - val_accuracy: 0.9822 - val_loss: 0.1096\n",
      "Epoch 7/10\n",
      "1875/1875 - 4s - 2ms/step - accuracy: 0.9970 - loss: 0.0099 - val_accuracy: 0.9821 - val_loss: 0.1296\n",
      "Epoch 8/10\n",
      "1875/1875 - 4s - 2ms/step - accuracy: 0.9969 - loss: 0.0120 - val_accuracy: 0.9787 - val_loss: 0.1191\n",
      "Epoch 9/10\n",
      "1875/1875 - 4s - 2ms/step - accuracy: 0.9975 - loss: 0.0084 - val_accuracy: 0.9823 - val_loss: 0.1222\n",
      "Epoch 10/10\n",
      "1875/1875 - 4s - 2ms/step - accuracy: 0.9969 - loss: 0.0107 - val_accuracy: 0.9804 - val_loss: 0.1384\n",
      "Accuracy_10_epochs: 0.9804999828338623% \n",
      " Accuracy_20_epochs: 0.980400025844574\n"
     ]
    }
   ],
   "source": [
    "pretrained_model= keras.saving.load_model('classification_model.keras')\n",
    "# Further train the loaded model\n",
    "pretrained_model.fit(X_train, y_train, validation_data=(X_test, y_test), epochs=10, verbose=2)\n",
    "\n",
    "# evaluate the model\n",
    "scores_20_epochs = pretrained_model.evaluate(X_test, y_test, verbose=0)\n",
    "print('Accuracy_10_epochs: {}% \\n Accuracy_20_epochs: {}'.format(scores[1], scores_20_epochs[1])) "
   ]
  }
 ],
 "metadata": {
  "kernelspec": {
   "display_name": "allvenv",
   "language": "python",
   "name": "python3"
  },
  "language_info": {
   "codemirror_mode": {
    "name": "ipython",
    "version": 3
   },
   "file_extension": ".py",
   "mimetype": "text/x-python",
   "name": "python",
   "nbconvert_exporter": "python",
   "pygments_lexer": "ipython3",
   "version": "3.11.0"
  }
 },
 "nbformat": 4,
 "nbformat_minor": 5
}
